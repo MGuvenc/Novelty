{
  "nbformat": 4,
  "nbformat_minor": 0,
  "metadata": {
    "colab": {
      "provenance": [],
      "mount_file_id": "1cRpuGUHGTCZrTFz6fX_w8m4N90zedE3g",
      "authorship_tag": "ABX9TyMz7Jge9jD8sx11h6DYVtgW",
      "include_colab_link": true
    },
    "kernelspec": {
      "name": "python3",
      "display_name": "Python 3"
    },
    "language_info": {
      "name": "python"
    }
  },
  "cells": [
    {
      "cell_type": "markdown",
      "metadata": {
        "id": "view-in-github",
        "colab_type": "text"
      },
      "source": [
        "<a href=\"https://colab.research.google.com/github/MGuvenc/Novelty/blob/main/train_novelty.ipynb\" target=\"_parent\"><img src=\"https://colab.research.google.com/assets/colab-badge.svg\" alt=\"Open In Colab\"/></a>"
      ]
    },
    {
      "cell_type": "code",
      "source": [
        "import pandas as pd\n",
        "import joblib, warnings, datetime, logging, cx_Oracle\n",
        "\n",
        "from sklearn.ensemble import IsolationForest\n",
        "from sklearn.exceptions import ConvergenceWarning\n",
        "\n",
        "warnings.simplefilter(action='ignore', category=FutureWarning)\n",
        "warnings.simplefilter(\"ignore\", category=ConvergenceWarning)\n",
        "warnings.filterwarnings(\"ignore\")\n",
        "\n",
        "pd.set_option('display.max_rows', None)\n",
        "pd.set_option('display.max_columns', None)\n",
        "pd.set_option('display.float_format', lambda x: '%.3f' % x)"
      ],
      "metadata": {
        "id": "sTi1_h-6blyq"
      },
      "execution_count": 15,
      "outputs": []
    },
    {
      "cell_type": "code",
      "source": [
        "def write_date():\n",
        "    return datetime.datetime.strftime(datetime.datetime.now(), '%Y/%m/%d %H:%M  -  ')\n",
        "\n",
        "def yazdir(x):\n",
        "    try:\n",
        "        print(x)\n",
        "        f.write('\\n'+str(x))\n",
        "        logging.info(x)\n",
        "    except Exception as e:\n",
        "        yazdir('ERR#2 : Logging execution error' + str(e))\n",
        "\n",
        "f = ''\n",
        "try:\n",
        "    f = open('ow_engine.log', 'w')\n",
        "    logging.basicConfig(filename='OWengine.log' )\n",
        "except Exception as e:\n",
        "    yazdir('ERR#1 :  Logging initiation error' + str(e))\n",
        "\n",
        "#yazdir(datetime.datetime.strftime(datetime.datetime.now(), '%Y%m%d%H%M_log.txt'),\"w+\")\n",
        "yazdir(write_date() + ' Vadeli TL ürünü için çalışma başlatıldı.\\n')\n",
        "\n",
        "yazdir('konfigürasyon değişkenleri yüklendi')"
      ],
      "metadata": {
        "colab": {
          "base_uri": "https://localhost:8080/"
        },
        "id": "aXPrxyARQjq2",
        "outputId": "b7386c4f-f5fe-4409-ccf8-447f69620335"
      },
      "execution_count": 18,
      "outputs": [
        {
          "output_type": "stream",
          "name": "stdout",
          "text": [
            "2023/09/26 06:56  -   Vadeli TL ürünü için çalışma başlatıldı.\n",
            "\n",
            "konfigürasyon değişkenleri yüklendi\n"
          ]
        }
      ]
    },
    {
      "cell_type": "code",
      "execution_count": null,
      "metadata": {
        "id": "VDl8iQzUa8LD"
      },
      "outputs": [],
      "source": [
        "sql = '''\n",
        "     SELECT * FROM xxxx.xxxxxx_temizlenmis\n",
        "     '''\n",
        "\n",
        "dsn_tns = cx_Oracle.makedsn('xx.xx.xxx.xx', 'xxxx', service_name='xxxxxxx')\n",
        "conn = cx_Oracle.connect(user=r'xxxxxxxxxx', password='xxxxxxx', dsn=dsn_tns)\n",
        "c = conn.cursor()"
      ]
    },
    {
      "cell_type": "code",
      "source": [
        "try:\n",
        "    data = pd.read_sql_query(sql, conn)\n",
        "    orig_data = data.copy()\n",
        "\n",
        "    conn.close()\n",
        "    yazdir(' Veri Setleri Okundu.')\n",
        "except Exception as e:\n",
        "    yazdir('ERR#3 : Dosya açılma sırasında hata oldu.'+ str(e))"
      ],
      "metadata": {
        "id": "7JktcNrubQjL"
      },
      "execution_count": null,
      "outputs": []
    },
    {
      "cell_type": "code",
      "source": [
        "data['TARIH'] = data[('MUHASEBE_TR')].values.astype('float64')\n",
        "data.rename(columns={'BAKIYE': 'GIDER'}, inplace=True)\n",
        "id = data.groupby('KUME')"
      ],
      "metadata": {
        "id": "7TFi2fGRbUq9"
      },
      "execution_count": 3,
      "outputs": []
    },
    {
      "cell_type": "code",
      "source": [
        "def train(id):\n",
        "    aylik_data = pd.DataFrame()\n",
        "    models = {}\n",
        "    for unique_id, group_data in id:\n",
        "        model = IsolationForest(contamination=0.1)\n",
        "        model.fit(group_data[['tarih', 'gider']])\n",
        "        models[unique_id] = model\n",
        "    return models"
      ],
      "metadata": {
        "id": "mVzBv0GGbfEi"
      },
      "execution_count": null,
      "outputs": []
    },
    {
      "cell_type": "code",
      "source": [
        "with concurrent.futures.ThreadPoolExecutor(max_workers=16) as executor:\n",
        "    results = executor.map(train, id)"
      ],
      "metadata": {
        "id": "sl4KAM2SPpDc"
      },
      "execution_count": null,
      "outputs": []
    },
    {
      "cell_type": "code",
      "source": [
        "joblib.dump(results, 'models.pkt')"
      ],
      "metadata": {
        "colab": {
          "base_uri": "https://localhost:8080/"
        },
        "id": "EIBVYspGk4N_",
        "outputId": "3896a51d-a967-4676-a04d-344db85df859"
      },
      "execution_count": 5,
      "outputs": [
        {
          "output_type": "execute_result",
          "data": {
            "text/plain": [
              "['models.pkt']"
            ]
          },
          "metadata": {},
          "execution_count": 5
        }
      ]
    }
  ]
}